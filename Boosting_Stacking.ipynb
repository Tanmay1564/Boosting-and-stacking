{
  "nbformat": 4,
  "nbformat_minor": 0,
  "metadata": {
    "colab": {
      "provenance": []
    },
    "kernelspec": {
      "name": "python3",
      "display_name": "Python 3"
    },
    "language_info": {
      "name": "python"
    }
  },
  "cells": [
    {
      "cell_type": "markdown",
      "source": [
        "1.What is Boosting in Machine Learning? Explain how it improves weak\n",
        "learners.\n",
        "- Boosting is an ensemble learning technique that combines multiple weak learners (usually decision trees with shallow depth) to form a strong learner with higher predictive accuracy.\n",
        "- A weak learner is a model that performs slightly better than random guessing (e.g., 55%–60% accuracy).\n",
        "Boosting improves performance by sequentially training weak models — each new model focuses more on the errors (misclassified samples) made by the previous ones.\n",
        "\n",
        "2.What is the difference between AdaBoost and Gradient Boosting in terms\n",
        "of how models are trained?\n",
        "- AdaBoost works by sequentially training weak learners (usually shallow decision trees) and adjusting the weights of training samples after each iteration.\n",
        "- AdaBoost improves performance by re-weighting the training data, focusing on difficult cases that earlier models got wrong. The process continues until a set number of learners are trained or the model’s performance stops improving.\n",
        "- Gradient Boosting also builds models sequentially, but instead of re-weighting samples, it focuses on reducing the overall prediction error (residual) of the combined model.\n",
        "- Gradient Boosting therefore uses the gradient of a loss function to determine how to correct the model’s errors at each step. This makes it a more general and flexible approach than AdaBoost, since it can work with many types of differentiable loss functions (like mean squared error, logistic loss, etc.).\n",
        "\n",
        "3.How does regularization help in XGBoost?\n",
        "- Regularization is a technique used to penalize model complexity — that is, to discourage the model from fitting too closely to the training data (which can harm performance on unseen data).\n",
        "- Regularization is a technique used to penalize model complexity — that is, to discourage the model from fitting too closely to the training data (which can harm performance on unseen data).\n",
        "4.Why is CatBoost considered efficient for handling categorical data?\n",
        "- CatBoost (short for Categorical Boosting) is considered highly efficient for handling categorical data because it introduces innovative ways to encode and process categorical features, avoiding many of the pitfalls of traditional encoding methods.\n",
        "\n",
        "5.What are some real-world applications where boosting techniques are\n",
        "preferred over bagging methods?\n",
        "- Boosting techniques — such as AdaBoost, Gradient Boosting, XGBoost, LightGBM, and CatBoost — are often preferred over bagging methods (like Random Forests) in real-world scenarios where model accuracy, fine-grained patterns, and bias reduction are more important than simple variance reduction.\n",
        "\n",
        "6.Write a Python program to:\n",
        "● Train an AdaBoost Classifier on the Breast Cancer dataset\n",
        "● Print the model accuracy\n"
      ],
      "metadata": {
        "id": "6P0XJAQ2C7wF"
      }
    },
    {
      "cell_type": "code",
      "execution_count": 2,
      "metadata": {
        "colab": {
          "base_uri": "https://localhost:8080/"
        },
        "id": "afP95vGAC5tl",
        "outputId": "9dfd6e17-9bb8-4a08-dde3-625d30c70151"
      },
      "outputs": [
        {
          "output_type": "stream",
          "name": "stdout",
          "text": [
            "Model Accuracy: 97.37%\n"
          ]
        }
      ],
      "source": [
        "# Import necessary libraries\n",
        "from sklearn.datasets import load_breast_cancer\n",
        "from sklearn.model_selection import train_test_split\n",
        "from sklearn.ensemble import AdaBoostClassifier\n",
        "from sklearn.metrics import accuracy_score\n",
        "\n",
        "data = load_breast_cancer()\n",
        "X = data.data\n",
        "y = data.target\n",
        "\n",
        "X_train, X_test, y_train, y_test = train_test_split(X, y, test_size=0.2, random_state=42)\n",
        "\n",
        "model = AdaBoostClassifier(n_estimators=100, learning_rate=1.0, random_state=42)\n",
        "\n",
        "\n",
        "model.fit(X_train, y_train)\n",
        "\n",
        "y_pred = model.predict(X_test)\n",
        "\n",
        "accuracy = accuracy_score(y_test, y_pred)\n",
        "print(f\"Model Accuracy: {accuracy * 100:.2f}%\")\n"
      ]
    },
    {
      "cell_type": "markdown",
      "source": [
        "7.Write a Python program to:\n",
        "● Train a Gradient Boosting Regressor on the California Housing dataset\n",
        "● Evaluate performance using R-squared score"
      ],
      "metadata": {
        "id": "XoFZt9trHHud"
      }
    },
    {
      "cell_type": "code",
      "source": [
        "\n",
        "from sklearn.datasets import fetch_california_housing\n",
        "from sklearn.model_selection import train_test_split\n",
        "from sklearn.ensemble import GradientBoostingRegressor\n",
        "from sklearn.metrics import r2_score\n",
        "\n",
        "data = fetch_california_housing()\n",
        "X = data.data\n",
        "y = data.target\n",
        "\n",
        "X_train, X_test, y_train, y_test = train_test_split(X, y, test_size=0.2, random_state=42)\n",
        "\n",
        "model = GradientBoostingRegressor(n_estimators=200, learning_rate=0.1, max_depth=3, random_state=42)\n",
        "\n",
        "model.fit(X_train, y_train)\n",
        "\n",
        "\n",
        "y_pred = model.predict(X_test)\n",
        "\n",
        "r2 = r2_score(y_test, y_pred)\n",
        "print(f\"R-squared Score: {r2:.4f}\")\n"
      ],
      "metadata": {
        "colab": {
          "base_uri": "https://localhost:8080/"
        },
        "id": "vT7LfIxWHBIN",
        "outputId": "b1701998-c1bf-4613-b71c-86864e200ebf"
      },
      "execution_count": 3,
      "outputs": [
        {
          "output_type": "stream",
          "name": "stdout",
          "text": [
            "R-squared Score: 0.8004\n"
          ]
        }
      ]
    },
    {
      "cell_type": "markdown",
      "source": [
        "8.Train an XGBoost Classifier on the Breast Cancer dataset\n",
        "● Tune the learning rate using GridSearchCV\n",
        "● Print the best parameters and accuracy"
      ],
      "metadata": {
        "id": "C7ZyLMRlHYQ-"
      }
    },
    {
      "cell_type": "code",
      "source": [
        "\n",
        "from sklearn.datasets import load_breast_cancer\n",
        "from sklearn.model_selection import train_test_split, GridSearchCV\n",
        "from sklearn.metrics import accuracy_score\n",
        "from xgboost import XGBClassifier\n",
        "\n",
        "\n",
        "data = load_breast_cancer()\n",
        "X = data.data\n",
        "y = data.target\n",
        "\n",
        "X_train, X_test, y_train, y_test = train_test_split(\n",
        "    X, y, test_size=0.2, random_state=42\n",
        ")\n",
        "\n",
        "xgb_model = XGBClassifier(\n",
        "    n_estimators=200,\n",
        "    max_depth=3,\n",
        "    random_state=42,\n",
        "    use_label_encoder=False,\n",
        "    eval_metric='logloss'\n",
        ")\n",
        "\n",
        "param_grid = {\n",
        "    'learning_rate': [0.01, 0.05, 0.1, 0.2, 0.3]\n",
        "}\n",
        "\n",
        "\n",
        "grid_search = GridSearchCV(\n",
        "    estimator=xgb_model,\n",
        "    param_grid=param_grid,\n",
        "    scoring='accuracy',\n",
        "    cv=5,\n",
        "    n_jobs=-1,\n",
        "    verbose=1\n",
        ")\n",
        "\n",
        "\n",
        "grid_search.fit(X_train, y_train)\n",
        "\n",
        "print(\"Best Parameters:\", grid_search.best_params_)\n",
        "\n",
        "best_model = grid_search.best_estimator_\n",
        "y_pred = best_model.predict(X_test)\n",
        "accuracy = accuracy_score(y_test, y_pred)\n",
        "\n",
        "print(f\"Test Set Accuracy: {accuracy * 100:.2f}%\")\n"
      ],
      "metadata": {
        "colab": {
          "base_uri": "https://localhost:8080/"
        },
        "id": "0kaetZqOHWl4",
        "outputId": "f462763f-e7ce-4fb0-e649-df1bd587dca6"
      },
      "execution_count": 4,
      "outputs": [
        {
          "output_type": "stream",
          "name": "stdout",
          "text": [
            "Fitting 5 folds for each of 5 candidates, totalling 25 fits\n",
            "Best Parameters: {'learning_rate': 0.3}\n",
            "Test Set Accuracy: 95.61%\n"
          ]
        },
        {
          "output_type": "stream",
          "name": "stderr",
          "text": [
            "/usr/local/lib/python3.12/dist-packages/xgboost/training.py:199: UserWarning: [02:35:34] WARNING: /workspace/src/learner.cc:790: \n",
            "Parameters: { \"use_label_encoder\" } are not used.\n",
            "\n",
            "  bst.update(dtrain, iteration=i, fobj=obj)\n"
          ]
        }
      ]
    },
    {
      "cell_type": "markdown",
      "source": [
        "9.Write a Python program to:\n",
        "● Train a CatBoost Classifier\n",
        "● Plot the confusion matrix using seaborn"
      ],
      "metadata": {
        "id": "-8Rwa1UjH0Nw"
      }
    },
    {
      "cell_type": "code",
      "source": [
        "\n",
        "from sklearn.datasets import load_breast_cancer\n",
        "from sklearn.model_selection import train_test_split\n",
        "from sklearn.metrics import confusion_matrix, accuracy_score\n",
        "import seaborn as sns\n",
        "import matplotlib.pyplot as plt\n",
        "from catboost import CatBoostClassifier\n",
        "\n",
        "data = load_breast_cancer()\n",
        "X = data.data\n",
        "y = data.target\n",
        "\n",
        "\n",
        "X_train, X_test, y_train, y_test = train_test_split(\n",
        "    X, y, test_size=0.2, random_state=42\n",
        ")\n",
        "\n",
        "\n",
        "model = CatBoostClassifier(\n",
        "    iterations=200,\n",
        "    learning_rate=0.1,\n",
        "    depth=4,\n",
        "    verbose=0,\n",
        "    random_state=42\n",
        ")\n",
        "\n",
        "\n",
        "model.fit(X_train, y_train)\n",
        "\n",
        "y_pred = model.predict(X_test)\n",
        "\n",
        "accuracy = accuracy_score(y_test, y_pred)\n",
        "print(f\"Model Accuracy: {accuracy * 100:.2f}%\")\n",
        "\n",
        "\n",
        "cm = confusion_matrix(y_test, y_pred)\n",
        "\n",
        "plt.figure(figsize=(5, 4))\n",
        "sns.heatmap(cm, annot=True, fmt=\"d\", cmap=\"Blues\",\n",
        "            xticklabels=data.target_names,\n",
        "            yticklabels=data.target_names)\n",
        "plt.title(\"CatBoost Classifier - Confusion Matrix\")\n",
        "plt.xlabel(\"Predicted Labels\")\n",
        "plt.ylabel(\"True Labels\")\n",
        "plt.show()\n"
      ],
      "metadata": {
        "colab": {
          "base_uri": "https://localhost:8080/",
          "height": 427
        },
        "id": "2ttOa9EWHrmL",
        "outputId": "84f74a22-17b5-4399-8b37-0b5649230741"
      },
      "execution_count": 7,
      "outputs": [
        {
          "output_type": "stream",
          "name": "stdout",
          "text": [
            "Model Accuracy: 96.49%\n"
          ]
        },
        {
          "output_type": "display_data",
          "data": {
            "text/plain": [
              "<Figure size 500x400 with 2 Axes>"
            ],
            "image/png": "[encoded data removed]"
          },
          "metadata": {}
        }
      ]
    },
    {
      "cell_type": "markdown",
      "source": [
        "10.You're working for a FinTech company trying to predict loan default using\n",
        "customer demographics and transaction behavior.\n",
        "The dataset is imbalanced, contains missing values, and has both numeric and\n",
        "categorical features.\n",
        "Describe your step-by-step data science pipeline using boosting techniques:\n",
        "● Data preprocessing & handling missing/categorical values\n",
        "● Choice between AdaBoost, XGBoost, or CatBoost\n",
        "● Hyperparameter tuning strategy\n",
        "● Evaluation metrics you'd choose and why\n",
        "● How the business would benefit from your model\n",
        "\n",
        "- Problem framing & data understanding\n",
        "\n",
        "Confirm objective (binary: default = 1 / no default = 0), prediction horizon (e.g., 90 days past due), and available outcome timestamp (needed for time-aware splitting).\n",
        "- Exploratory Data Analysis (EDA)\n",
        "\n",
        "Class balance: measure default rate (e.g., 1–10% typical).\n",
        "\n",
        "Missingness: per feature missing rate, missingness by class, whether missingness is informative.\n",
        "\n",
        "- Feature engineering (recommended)\n",
        "\n",
        "Aggregate transactions to customer level: total_txn_count, avg_txn_amount, max_txn_gap, delinquency_count, last_txn_days.\n",
        "\n",
        "-Data preprocessing & missing / categorical handling\n",
        "\n",
        "Split first (train/validation/test) before any target-based encodings or resampling. If data is temporal, use time-aware splits (train up to T, validate next window).\n",
        "\n",
        "- Choice of boosting algorithm (AdaBoost vs XGBoost vs CatBoost)\n",
        "\n",
        "CatBoost: first choice for this dataset if many categorical features and missing values. Pros: native categorical support (ordered target encoding → low leakage), robust missing handling, great default params, good for moderate data size.\n",
        "- Model training strategy\n",
        "\n",
        "Use stratified K-fold CV (e.g., 5 folds) for estimating generalization if data is iid. If time dependency exists, use time-based CV / rolling window CV.\n",
        "- Hyperparameter tuning strategy\n",
        "\n",
        "Stage 1 — coarse search: Randomized search or Bayesian optimization (e.g., Optuna) across a wide range to find regions of interest.\n",
        "\n",
        "Stage 2 — refine: Grid search around the best region.Always use CV and early stopping to evaluate candidates. Tune on training folds only.\n",
        "- Evaluation metrics (and why)\n",
        "\n",
        "Because the dataset is imbalanced, accuracy is misleading. I recommend:"
      ],
      "metadata": {
        "id": "wW_PruycI1X_"
      }
    },
    {
      "cell_type": "code",
      "source": [],
      "metadata": {
        "id": "-5wsqowQIOvH"
      },
      "execution_count": null,
      "outputs": []
    },
    {
      "cell_type": "code",
      "source": [],
      "metadata": {
        "id": "TSge-PuyIuR1"
      },
      "execution_count": null,
      "outputs": []
    }
  ]
}